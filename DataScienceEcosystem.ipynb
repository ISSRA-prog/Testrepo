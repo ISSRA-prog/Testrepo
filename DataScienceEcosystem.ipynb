{
  "metadata": {
    "kernelspec": {
      "name": "python",
      "display_name": "Python (Pyodide)",
      "language": "python"
    },
    "language_info": {
      "name": ""
    }
  },
  "nbformat_minor": 4,
  "nbformat": 4,
  "cells": [
    {
      "cell_type": "markdown",
      "source": "# Data Sciense Tools and Ecosystem",
      "metadata": {}
    },
    {
      "cell_type": "markdown",
      "source": "in this notebook, data science tools and ecosystem are summeriezed",
      "metadata": {}
    },
    {
      "cell_type": "markdown",
      "source": "some of the popular languages data scientists use are:\n1. python\n2. R\n3. SQL\n4. Julia",
      "metadata": {}
    },
    {
      "cell_type": "markdown",
      "source": "some of the commonly used libraries used by dats scientists include:\n1. NumPy\n2. Pandas\n3. Matplotlib\n4. Seaborn\n5. Scikit-learn\n6. TensorFlow\n",
      "metadata": {}
    },
    {
      "cell_type": "markdown",
      "source": "|Data Science tools|\n|------------------|\n|Jypeter Notebook|\n|RStudio|\n|VS Code|",
      "metadata": {}
    },
    {
      "cell_type": "code",
      "source": "#This is a simple arithmetic expression to multiply then add integers.\n(3*4)+5",
      "metadata": {
        "trusted": true,
        "scrolled": true
      },
      "outputs": [
        {
          "execution_count": 4,
          "output_type": "execute_result",
          "data": {
            "text/plain": "17"
          },
          "metadata": {}
        }
      ],
      "execution_count": 4
    },
    {
      "cell_type": "code",
      "source": "#this will convert 200 minutes to hours by dividing by 60.\nminutes=200\nhours=minutes/60\nhours",
      "metadata": {
        "trusted": true
      },
      "outputs": [
        {
          "execution_count": 6,
          "output_type": "execute_result",
          "data": {
            "text/plain": "3.3333333333333335"
          },
          "metadata": {}
        }
      ],
      "execution_count": 6
    },
    {
      "cell_type": "markdown",
      "source": "**objectives:** \n- list popular languages for data science\n- explore key libraries for data sciense\n- explore jupyter notebook and jupyter lab",
      "metadata": {}
    },
    {
      "cell_type": "markdown",
      "source": "## author's name: Lakshmi Holla & Niveditha Pandith\nIssra Mustafa",
      "metadata": {}
    }
  ]
}